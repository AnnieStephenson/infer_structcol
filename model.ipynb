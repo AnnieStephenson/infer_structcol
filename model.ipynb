{
 "cells": [
  {
   "cell_type": "markdown",
   "metadata": {},
   "source": [
    "# Generative Model Development\n",
    "\n",
    "### Team Mandrill Rumps - Solomon Barkley, Victoria Hwang, Anna B. Stephenson\n",
    "\n",
    "April 11, 2017\n",
    "\n",
    "Updated April 11, 2017"
   ]
  },
  {
   "cell_type": "markdown",
   "metadata": {},
   "source": [
    "The goal is to infer the volume fraction of a colloidal structural color sample from its reflectance spectrum. The generative model must be able to reproduce an experimental reflectance spectrum from a set of parameters defining the sample. The foundation of the generative model is a stochastic multiple scattering algorithm included in a separate python package at https://github.com/manoharan-lab/structural-color. Here, we describe the multiple scattering model, our generative model (and its uncertainties), and our likelihood function."
   ]
  },
  {
   "cell_type": "markdown",
   "metadata": {},
   "source": [
    "### Monte Carlo multiple scattering calculations\n",
    "\n",
    "This model predicts the reflectance spectra of structurally colored samples of thin films made from nanoscale spheres in a disordered packing. Past models have accounted for only a single scattering event in the sample [1], but this model uses a Monte Carlo approach to account for many scattering events, leading to more accurate results. \n",
    "\n",
    "The Monte Carlo model simulates the trajectories of individual photons as random walkers that move through a material by sampling both the step size and the direction from distributions that are calculated using the material parameters. \n",
    "\n",
    "##### Material parameters\n",
    "\n",
    "1. Particle size: the radius of the particles in the sample\n",
    "2. Particle refractive index\n",
    "3. Particle volume fraction \n",
    "4. Sample thickness\n",
    "5. Matrix refractive index: the matrix is the material in which the particles are embedded\n",
    "6. Medium refractive index: the medium is the material surrounding the the matrix/particle system, usually air\n",
    "\n",
    "##### Procedure\n",
    "\n",
    "1. A user-specified number of photon packets is created with an initial position, direction of propagation, and weight.\n",
    "2. The photon packets travel a step size sampled from a distribution based on Beer's law [2], and the positions are updated. \n",
    "3. The photon packet weights are updated to account for the light absorbed during the step.\n",
    "4. The photon packets are scattered after traveling the initial step, and new direcitons are sampled from the phase function, which is the angular distribution of the scattered intensity [3].\n",
    "5. The step size is then sampled again and the process of scattering and stepping is repeated many times as specified by the user.\n",
    "6. After the simulation is completed, a reflectance is calculated by counting the photon packets that exit the sample in the backscattering hemisphere. \n",
    "\n",
    "##### Calculating Reflectance\n",
    "\n",
    "Each simulation sends in a number of photon packets set by the user. To calculate the reflectance, the number of photon packets that exits the sample through the backscattering hemisphere is divided by the total number of photon packets sent into the sample.\n",
    "\n",
    "A sample consists of a film of a set thickness. The code also accounts for reflections due to the index contrast at the interface using the Fresnel equations, but only at the first air-sample interface. Refraction of the backscattered light exiting the sample is calculated using Snell's law, so that the angle of photons exiting the sample can be tracked in case the user is only interested in collecting a certain angle range of light. "
   ]
  },
  {
   "cell_type": "markdown",
   "metadata": {},
   "source": [
    "### Generative model\n",
    "\n",
    "##### Basic generative model\n",
    "\n",
    "The goal of the generative model is to calculate reflection spectra from structural color samples defined by a set of parameters. The Monte Carlo model described above generates theoretical spectra but these spectra do not correspond to experimental measurements. The full generative model incorporates the Monte Carlo calculations as well as additional factors to produce reflection spectra that resemble experimental data.\n",
    "\n",
    "All of the arguments taken by the Monte Carlo model can be reliably measured for typical samples, except for particle volume fraction $\\phi$, which is included in the generative model as an inference parameter. The Monte Carlo model returns a theoretical reflection calculation $R^t(\\lambda, \\phi)$, where $\\lambda$ is the light wavelength at which reflectance is calculated. A spectrum $\\left \\{ R^t(\\phi) \\right \\}$ consists of a set of $R^t_i(\\lambda_i, \\phi)$ values, where $\\left \\{ \\lambda_i \\right \\}$ represents all wavelengths used to produce the spectrum.\n",
    "\n",
    "The theoretical reflectance $R^t$ must be transformed into a corrected reflectance $R^c$ before it can be compared with experimental data. Frequently, not all of the incident light on a non-absorbing sample is recorded as being reflected or transmitted since some light is lost in the experimental system. Since the exact reasons for loss are not known, they cannot be accurately measured. Instead, we parameterize a constant loss level $l_0$ with a linear modulation by wavelength with strength $l_1$, so that total losses $L_i = l_0 + l_1\\lambda_i$. Therefore a corrected spectrum $\\left \\{ R^c(\\phi) \\right \\}$ is given by the elementwise product of $\\left \\{ R^c\\left(\\phi\\right) \\right \\}$ and $\\left \\{ 1-L_i \\right \\}$, or:\n",
    "\n",
    "$$\n",
    "R^c_i(\\lambda_i,\\phi, l_0, l_1)=(1-l_0-l_1\\lambda_i)R^t_i\\left(\\lambda_i, \\phi\\right)\n",
    "$$\n",
    "\n",
    "The $l_0$ and $l_1$ values are not generally known (or physically interesting), so they are marginalized over in the inference calculation (performed with MCMC so marginalization is trivial).\n",
    "\n",
    "##### Generative model extensions\n",
    "\n",
    "There are multiple ways to extend the basic model described above. All require modification of the underlying Monte Carlo model.\n",
    "\n",
    "The highest priority extension is to calculate transmission spectra $\\left \\{ T^c(\\phi) \\right \\}$ as well as reflection spectra. Both spectra can be measured experimentally from the same sample, so this extension would increase the predictive power of the generative model. By providing more information to inform our likelihood function, we hope to obtain a better estimate of sample volume fraction $\\phi$. In general, there are some losses associated with both transmission and reflection, and there is no obvious simple relation between these values. Separate parameters describing transmission losses $l_0^*$ and $l_1^*$ will be introduced and marginalized over in the inference calculation. This addition would require large changes to the Monte Carlo code, but few changes to the generative model.\n",
    "\n",
    "Other extensions involve increasing the amount of information that goes into the Monte Carlo calculation by allowing parameters to vary that are currently held fixed. Examples include sphere polydispersity and incident beam divergence, both of which are currently fixed at zero. Both values could be measured experimentally or sampled as parameters and marginalized over in an inference calculation. These types of extensions would help to make the generative model more physical by accounting for phenomena that are currently neglected. They would require relatively minor changes to the Monte Carlo code, but the generative model may need to be reworked for computation time concerns. The basic model includes only a single parameter ($\\phi$) that affects the Monte Carlo output, but addition of more parameters would increase the dimensionality and computation time required to adequately sample parameter space."
   ]
  },
  {
   "cell_type": "markdown",
   "metadata": {},
   "source": [
    "### Model uncertainties\n",
    "\n",
    "Due to the stochastic nature of the Monte Carlo model for scattering calculations, a calculated spectrum has uncertainties that must be included and propagated in the generative model. In general, these uncertainties will depend on the number of trajectories and scattering events we choose for a single calculation, and on the total number of runs we perform. \n",
    "\n",
    "The choice of the number of scattering events is determined by the \"equilibration\" time for the scattering calculations. This means that we need enough scattering events such that most of the photons exit the sample, which would resemble more closely the behavior of light in an experimental measurement. We decided to choose 100 scattering events for our calculations.\n",
    "\n",
    "The number of trajectories will affect the noise level and reproducibility of the resulting spectra. The more trajectories we use, the less noisy and more reproducible the data. From previous calculations, we found that choosing 10,000 trajectories leads to very reproducible results; however, we also want to reduce the computation time of each run such that the later inference calculations are computationally accessible. Therefore, we decided to use 300 trajectories per run. The uncertainty range (set to 1 standard deviation) across the spectrum of visible wavelengths calculated from 100 of these runs is\n",
    "\n",
    "$$\n",
    "0.015 < \\sigma < 0.032\n",
    "$$\n",
    "\n",
    "This range should be smaller than the measured uncertainties from the experimental data. "
   ]
  },
  {
   "cell_type": "markdown",
   "metadata": {},
   "source": [
    "### Likelihood Function\n",
    "\n",
    "Due to computation time concerns, we hope to calculate theoretical spectra as few times as possible. Our basic likelihood function will therefore accept a pre-calculated theoretical spectrum for a given volume fraction $\\left \\{ R^t(\\phi) \\right \\}$. The pre-calculated theoretical spectrum could be computed in a brute-force approach or it could perform its own random walk (in volume fraction dimension only) following a Monte Carlo procedure. There are uncertainties associated with both the stochastic Monte Carlo model and the experimental data. These two uncertainties are assumed to be Gaussian, and so their convolution is a Gaussian with variance equal to the sum of the two independent noise source variances [4]. In the approximation of a linear model, likelihood is proportional to $\\exp{\\left(-\\chi^2/2\\right)}$. The likelihood is a product over all wavelengths $\\lambda_i$, and depends on the experimental reflectance $\\{D_i\\}$ with uncertainties $\\{\\sigma_{di}\\}$, theoretical reflectance $\\{R_i^t\\}$ with uncertainties $\\{\\sigma_{ti}\\}$, and Loss parameters $\\{l_i\\}$:\n",
    "\n",
    "$$\n",
    "p\\left(D|M,\\phi,l_0,l_1,I\\right)=\\left(2\\pi\\right)^{-N/2}\\left[\\prod_{i=1} ^N \\left(\\sigma_{di}^2+\\sigma_{ti}^2\\right)^{-1/2}\\right]\\exp{\\left[\\sum_{i=1}^N\\frac{-\\left(D_i-(1-l_0-l_1\\lambda_i)R_i^t(\\lambda_i,\\phi)\\right)^2}{2\\left(\\sigma_{di}^2+\\sigma_{ti}^2\\right)}\\right]}\n",
    "$$\n",
    "\n"
   ]
  },
  {
   "cell_type": "code",
   "execution_count": 1,
   "metadata": {
    "collapsed": true
   },
   "outputs": [],
   "source": [
    "def calc_likelihood(spect_theory, spect_meas, sigma_theory, sigma_meas, wavelength, l0, l1):\n",
    "\n",
    "    \"\"\"\n",
    "    returns likelihood of obtaining an experimental dataset from a given spectrum\n",
    "    \n",
    "    Parameters:\n",
    "        spect_theory: a spectrum calculated from the MC model (array of length N)\n",
    "        spect_meas: dependent variable - experimental measurements (array of length N)\n",
    "        sigma_theory: uncertainty associated with the probabilistic MC model (array of length N)\n",
    "        sigma_meas: uncertainty assocated with the experimental measurements (array of length N)\n",
    "        wavelength: independent variable (array of length N)\n",
    "        l0: constant loss parameter (float)\n",
    "        l1: effect of wavelength on losses (float)\n",
    "    \"\"\"\n",
    "    \n",
    "    loss = l0 + l1*wavelength\n",
    "    residual = (spect_data - (1-loss)*spect_theory)\n",
    "    var_eff = sigma_theory**2 + sigma_data**2\n",
    "    chi_square = np.sum(residual**2/var_eff)\n",
    "    prefactor = 1/np.prod(np.sqrt(2*np.pi*var_eff))\n",
    "    return prefactor * np.exp(-chi_square/2)"
   ]
  },
  {
   "cell_type": "markdown",
   "metadata": {},
   "source": [
    "### Application\n",
    "\n",
    "Here, we show the code necessary to load in a simulated dataset and perform inference. The simulated data has volume fraction $\\phi = 0.59$, and losses $l_0=l_1=0$. "
   ]
  },
  {
   "cell_type": "code",
   "execution_count": 1,
   "metadata": {
    "collapsed": false
   },
   "outputs": [
    {
     "name": "stdout",
     "output_type": "stream",
     "text": [
      "emcee: Exception while calling your likelihood function:\n",
      "emcee: Exception while calling your likelihood function:\n",
      "  params: [ 0.51022194  0.42908405  0.00757838]\n",
      "  params: [ 0.66081461  0.41764832 -0.04219163]\n",
      "  args: [   reflectance   sigma_r  wavelength\n",
      "0     0.171518  0.017988       450.0\n",
      "1     0.152608  0.015342       500.0\n",
      "2     0.253961  0.024299       550.0\n",
      "3     0.091586  0.016423       600.0\n",
      "4     0.068010  0.009901       650.0\n",
      "5     0.041323  0.005763       700.0\n",
      "6     0.010896  0.005184       750.0\n",
      "7     0.007453  0.002614       800.0, <infer_structcol.main.Sample object at 0x7f485a6bc8d0>, 0.55]  args: [   reflectance   sigma_r  wavelength\n",
      "0     0.171518  0.017988       450.0\n",
      "1     0.152608  0.015342       500.0\n",
      "2     0.253961  0.024299       550.0\n",
      "3     0.091586  0.016423       600.0\n",
      "4     0.068010  0.009901       650.0\n",
      "5     0.041323  0.005763       700.0\n",
      "6     0.010896  0.005184       750.0\n",
      "7     0.007453  0.002614       800.0, <infer_structcol.main.Sample object at 0x7f485a6bc7b8>, 0.55]\n",
      "\n",
      "  kwargs: {}\n",
      "  kwargs: {}\n",
      "  exception:\n",
      "  exception:\n"
     ]
    },
    {
     "name": "stderr",
     "output_type": "stream",
     "text": [
      "Traceback (most recent call last):\n",
      "Traceback (most recent call last):\n",
      "  File \"/home/barkley/.local/lib/python3.4/site-packages/emcee/ensemble.py\", line 519, in __call__\n",
      "    return self.f(x, *self.args, **self.kwargs)\n",
      "  File \"/home/barkley/.local/lib/python3.4/site-packages/emcee/ensemble.py\", line 519, in __call__\n",
      "    return self.f(x, *self.args, **self.kwargs)\n",
      "  File \"/home/barkley/code/infer_structcol/infer_structcol/model.py\", line 53, in log_posterior\n",
      "    theory_spectrum = calc_reflectance(vol_frac, sample)\n",
      "  File \"/home/barkley/code/infer_structcol/infer_structcol/model.py\", line 53, in log_posterior\n",
      "    theory_spectrum = calc_reflectance(vol_frac, sample)\n",
      "  File \"/home/barkley/code/infer_structcol/infer_structcol/run_structcol.py\", line 46, in calc_reflectance\n",
      "    p, lscat, labs = mc.calc_scat(particle_size, particle_index[i], sample_index[i], volume_fraction, angles, wavelen, phase_mie=False, lscat_mie=False)\n",
      "  File \"/home/barkley/code/infer_structcol/infer_structcol/run_structcol.py\", line 46, in calc_reflectance\n",
      "    p, lscat, labs = mc.calc_scat(particle_size, particle_index[i], sample_index[i], volume_fraction, angles, wavelen, phase_mie=False, lscat_mie=False)\n"
     ]
    },
    {
     "name": "stdout",
     "output_type": "stream",
     "text": [
      "emcee: Exception while calling your likelihood function:\n",
      "emcee: Exception while calling your likelihood function:\n",
      "  params: [ 0.601497    0.45147864  0.01299058]\n",
      "  params: [ 0.58381243  0.63009835 -0.00911839]\n",
      "emcee: Exception while calling your likelihood function:\n",
      "emcee: Exception while calling your likelihood function:\n",
      "emcee: Exception while calling your likelihood function:\n",
      "  params: [ 0.56025571  0.50366186  0.07161979]\n",
      "  args: [   reflectance   sigma_r  wavelength\n",
      "0     0.171518  0.017988       450.0\n",
      "1     0.152608  0.015342       500.0\n",
      "2     0.253961  0.024299       550.0\n",
      "3     0.091586  0.016423       600.0\n",
      "4     0.068010  0.009901       650.0\n",
      "5     0.041323  0.005763       700.0\n",
      "6     0.010896  0.005184       750.0\n",
      "7     0.007453  0.002614       800.0, <infer_structcol.main.Sample object at 0x7f485a6c2240>, 0.55]  params: [ 0.62179975  0.5138299  -0.00737452]\n",
      "  params: [ 0.53387114  0.48372488  0.09456667]\n",
      "  args: [   reflectance   sigma_r  wavelength\n",
      "0     0.171518  0.017988       450.0\n",
      "1     0.152608  0.015342       500.0\n",
      "2     0.253961  0.024299       550.0\n",
      "3     0.091586  0.016423       600.0\n",
      "4     0.068010  0.009901       650.0\n",
      "5     0.041323  0.005763       700.0\n",
      "6     0.010896  0.005184       750.0\n",
      "7     0.007453  0.002614       800.0, <infer_structcol.main.Sample object at 0x7f485a6c3588>, 0.55]emcee: Exception while calling your likelihood function:\n",
      "  params: [ 0.56700714  0.48339028  0.03947956]\n",
      "\n",
      "  args: [   reflectance   sigma_r  wavelength\n",
      "0     0.171518  0.017988       450.0\n",
      "1     0.152608  0.015342       500.0\n",
      "2     0.253961  0.024299       550.0\n",
      "3     0.091586  0.016423       600.0\n",
      "4     0.068010  0.009901       650.0\n",
      "5     0.041323  0.005763       700.0\n",
      "6     0.010896  0.005184       750.0\n",
      "7     0.007453  0.002614       800.0, <infer_structcol.main.Sample object at 0x7f485a6c2470>, 0.55]"
     ]
    },
    {
     "name": "stderr",
     "output_type": "stream",
     "text": [
      "  File \"/home/barkley/code/structural-color-montecarlo/structcol/montecarlo.py\", line 811, in calc_scat\n",
      "    x = size_parameter(wavelen, n_sample, radius)\n"
     ]
    },
    {
     "name": "stdout",
     "output_type": "stream",
     "text": [
      "\n"
     ]
    },
    {
     "name": "stderr",
     "output_type": "stream",
     "text": [
      "  File \"/home/barkley/code/structural-color-montecarlo/structcol/montecarlo.py\", line 811, in calc_scat\n",
      "    x = size_parameter(wavelen, n_sample, radius)\n"
     ]
    },
    {
     "name": "stdout",
     "output_type": "stream",
     "text": [
      "  args: [   reflectance   sigma_r  wavelength\n",
      "0     0.171518  0.017988       450.0\n",
      "1     0.152608  0.015342       500.0\n",
      "2     0.253961  0.024299       550.0\n",
      "3     0.091586  0.016423       600.0\n",
      "4     0.068010  0.009901       650.0\n",
      "5     0.041323  0.005763       700.0\n",
      "6     0.010896  0.005184       750.0\n",
      "7     0.007453  0.002614       800.0, <infer_structcol.main.Sample object at 0x7f485a6c2358>, 0.55]\n",
      "\n",
      "  kwargs: {}\n",
      "  kwargs: {}\n",
      "  kwargs: {}\n",
      "  exception:\n",
      "  exception:\n",
      "  args: [   reflectance   sigma_r  wavelength\n",
      "0     0.171518  0.017988       450.0\n",
      "1     0.152608  0.015342       500.0\n",
      "2     0.253961  0.024299       550.0\n",
      "3     0.091586  0.016423       600.0\n",
      "4     0.068010  0.009901       650.0\n",
      "5     0.041323  0.005763       700.0\n",
      "6     0.010896  0.005184       750.0\n",
      "7     0.007453  0.002614       800.0, <infer_structcol.main.Sample object at 0x7f485a6c2128>, 0.55]  exception:\n",
      "  kwargs: {}\n",
      "  args: [   reflectance   sigma_r  wavelength\n",
      "0     0.171518  0.017988       450.0\n",
      "1     0.152608  0.015342       500.0\n",
      "2     0.253961  0.024299       550.0\n",
      "3     0.091586  0.016423       600.0\n",
      "4     0.068010  0.009901       650.0\n",
      "5     0.041323  0.005763       700.0\n",
      "6     0.010896  0.005184       750.0\n",
      "7     0.007453  0.002614       800.0, <infer_structcol.main.Sample object at 0x7f485a6c26a0>, 0.55]"
     ]
    },
    {
     "name": "stderr",
     "output_type": "stream",
     "text": [
      "Traceback (most recent call last):\n",
      "Traceback (most recent call last):\n",
      "Traceback (most recent call last):\n"
     ]
    },
    {
     "name": "stdout",
     "output_type": "stream",
     "text": [
      "\n",
      "  exception:\n"
     ]
    },
    {
     "name": "stderr",
     "output_type": "stream",
     "text": [
      "  File \"/home/barkley/.local/lib/python3.4/site-packages/emcee/ensemble.py\", line 519, in __call__\n",
      "    return self.f(x, *self.args, **self.kwargs)\n"
     ]
    },
    {
     "name": "stdout",
     "output_type": "stream",
     "text": [
      "  kwargs: {}\n",
      "\n"
     ]
    },
    {
     "name": "stderr",
     "output_type": "stream",
     "text": [
      "  File \"/home/barkley/.local/lib/python3.4/site-packages/emcee/ensemble.py\", line 519, in __call__\n",
      "    return self.f(x, *self.args, **self.kwargs)\n"
     ]
    },
    {
     "name": "stdout",
     "output_type": "stream",
     "text": [
      "  exception:\n"
     ]
    },
    {
     "name": "stderr",
     "output_type": "stream",
     "text": [
      "Traceback (most recent call last):\n"
     ]
    },
    {
     "name": "stdout",
     "output_type": "stream",
     "text": [
      "  kwargs: {}\n"
     ]
    },
    {
     "name": "stderr",
     "output_type": "stream",
     "text": [
      "Traceback (most recent call last):\n"
     ]
    },
    {
     "name": "stdout",
     "output_type": "stream",
     "text": [
      "  exception:\n"
     ]
    },
    {
     "name": "stderr",
     "output_type": "stream",
     "text": [
      "  File \"/home/barkley/code/infer_structcol/infer_structcol/model.py\", line 53, in log_posterior\n",
      "    theory_spectrum = calc_reflectance(vol_frac, sample)\n",
      "  File \"/home/barkley/code/infer_structcol/infer_structcol/model.py\", line 53, in log_posterior\n",
      "    theory_spectrum = calc_reflectance(vol_frac, sample)\n",
      "  File \"/home/barkley/.local/lib/python3.4/site-packages/emcee/ensemble.py\", line 519, in __call__\n",
      "    return self.f(x, *self.args, **self.kwargs)\n",
      "Traceback (most recent call last):\n",
      "  File \"/home/barkley/.local/lib/python3.4/site-packages/emcee/ensemble.py\", line 519, in __call__\n",
      "    return self.f(x, *self.args, **self.kwargs)\n",
      "  File \"/home/barkley/code/infer_structcol/infer_structcol/run_structcol.py\", line 46, in calc_reflectance\n",
      "    p, lscat, labs = mc.calc_scat(particle_size, particle_index[i], sample_index[i], volume_fraction, angles, wavelen, phase_mie=False, lscat_mie=False)\n",
      "  File \"/home/barkley/code/infer_structcol/infer_structcol/model.py\", line 53, in log_posterior\n",
      "    theory_spectrum = calc_reflectance(vol_frac, sample)\n",
      "  File \"/home/barkley/code/infer_structcol/infer_structcol/run_structcol.py\", line 46, in calc_reflectance\n",
      "    p, lscat, labs = mc.calc_scat(particle_size, particle_index[i], sample_index[i], volume_fraction, angles, wavelen, phase_mie=False, lscat_mie=False)\n",
      "  File \"/home/barkley/code/infer_structcol/infer_structcol/model.py\", line 53, in log_posterior\n",
      "    theory_spectrum = calc_reflectance(vol_frac, sample)\n",
      "  File \"/home/barkley/.local/lib/python3.4/site-packages/emcee/ensemble.py\", line 519, in __call__\n",
      "    return self.f(x, *self.args, **self.kwargs)\n",
      "  File \"/home/barkley/code/structural-color-montecarlo/structcol/montecarlo.py\", line 811, in calc_scat\n",
      "    x = size_parameter(wavelen, n_sample, radius)\n",
      "  File \"/home/barkley/code/structural-color-montecarlo/structcol/montecarlo.py\", line 811, in calc_scat\n",
      "    x = size_parameter(wavelen, n_sample, radius)\n",
      "  File \"/home/barkley/code/infer_structcol/infer_structcol/run_structcol.py\", line 46, in calc_reflectance\n",
      "    p, lscat, labs = mc.calc_scat(particle_size, particle_index[i], sample_index[i], volume_fraction, angles, wavelen, phase_mie=False, lscat_mie=False)\n",
      "  File \"/home/barkley/code/infer_structcol/infer_structcol/run_structcol.py\", line 46, in calc_reflectance\n",
      "    p, lscat, labs = mc.calc_scat(particle_size, particle_index[i], sample_index[i], volume_fraction, angles, wavelen, phase_mie=False, lscat_mie=False)\n",
      "  File \"/home/barkley/code/infer_structcol/infer_structcol/model.py\", line 53, in log_posterior\n",
      "    theory_spectrum = calc_reflectance(vol_frac, sample)\n",
      "  File \"/home/barkley/.local/lib/python3.4/site-packages/emcee/ensemble.py\", line 519, in __call__\n",
      "    return self.f(x, *self.args, **self.kwargs)\n",
      "  File \"/home/barkley/.local/lib/python3.4/site-packages/pint/registry_helpers.py\", line 210, in wrapper\n",
      "    if dim and value.dimensionality != dim:\n",
      "  File \"/home/barkley/.local/lib/python3.4/site-packages/pint/registry_helpers.py\", line 210, in wrapper\n",
      "    if dim and value.dimensionality != dim:\n",
      "AttributeError: 'numpy.float64' object has no attribute 'dimensionality'\n",
      "  File \"/home/barkley/code/infer_structcol/infer_structcol/model.py\", line 53, in log_posterior\n",
      "    theory_spectrum = calc_reflectance(vol_frac, sample)\n",
      "  File \"/home/barkley/code/structural-color-montecarlo/structcol/montecarlo.py\", line 811, in calc_scat\n",
      "    x = size_parameter(wavelen, n_sample, radius)\n",
      "  File \"/home/barkley/.local/lib/python3.4/site-packages/pint/registry_helpers.py\", line 210, in wrapper\n",
      "    if dim and value.dimensionality != dim:\n",
      "  File \"/home/barkley/.local/lib/python3.4/site-packages/pint/registry_helpers.py\", line 210, in wrapper\n",
      "    if dim and value.dimensionality != dim:\n",
      "AttributeError: 'numpy.float64' object has no attribute 'dimensionality'\n",
      "AttributeError: 'numpy.float64' object has no attribute 'dimensionality'\n",
      "  File \"/home/barkley/.local/lib/python3.4/site-packages/pint/registry_helpers.py\", line 210, in wrapper\n",
      "    if dim and value.dimensionality != dim:\n",
      "AttributeError: 'numpy.float64' object has no attribute 'dimensionality'\n"
     ]
    },
    {
     "name": "stdout",
     "output_type": "stream",
     "text": [
      "emcee: Exception while calling your likelihood function:\n"
     ]
    },
    {
     "name": "stderr",
     "output_type": "stream",
     "text": [
      "  File \"/home/barkley/code/infer_structcol/infer_structcol/run_structcol.py\", line 46, in calc_reflectance\n",
      "    p, lscat, labs = mc.calc_scat(particle_size, particle_index[i], sample_index[i], volume_fraction, angles, wavelen, phase_mie=False, lscat_mie=False)\n",
      "  File \"/home/barkley/code/infer_structcol/infer_structcol/run_structcol.py\", line 46, in calc_reflectance\n",
      "    p, lscat, labs = mc.calc_scat(particle_size, particle_index[i], sample_index[i], volume_fraction, angles, wavelen, phase_mie=False, lscat_mie=False)\n",
      "  File \"/home/barkley/code/structural-color-montecarlo/structcol/montecarlo.py\", line 811, in calc_scat\n",
      "    x = size_parameter(wavelen, n_sample, radius)\n",
      "  File \"/home/barkley/code/structural-color-montecarlo/structcol/montecarlo.py\", line 811, in calc_scat\n",
      "    x = size_parameter(wavelen, n_sample, radius)\n"
     ]
    },
    {
     "name": "stdout",
     "output_type": "stream",
     "text": [
      "emcee: Exception while calling your likelihood function:\n"
     ]
    },
    {
     "name": "stderr",
     "output_type": "stream",
     "text": [
      "AttributeError: 'numpy.float64' object has no attribute 'dimensionality'\n"
     ]
    },
    {
     "name": "stdout",
     "output_type": "stream",
     "text": [
      "  params: [ 0.57219931  0.47450866 -0.00553675]\n",
      "  params: [ 0.58560511  0.52163684 -0.00723171]\n"
     ]
    },
    {
     "name": "stderr",
     "output_type": "stream",
     "text": [
      "  File \"/home/barkley/.local/lib/python3.4/site-packages/pint/registry_helpers.py\", line 210, in wrapper\n",
      "    if dim and value.dimensionality != dim:\n",
      "AttributeError: 'numpy.float64' object has no attribute 'dimensionality'\n",
      "  File \"/home/barkley/.local/lib/python3.4/site-packages/pint/registry_helpers.py\", line 210, in wrapper\n",
      "    if dim and value.dimensionality != dim:\n",
      "  File \"/home/barkley/code/structural-color-montecarlo/structcol/montecarlo.py\", line 811, in calc_scat\n",
      "    x = size_parameter(wavelen, n_sample, radius)\n"
     ]
    },
    {
     "name": "stdout",
     "output_type": "stream",
     "text": [
      "  args: [   reflectance   sigma_r  wavelength\n",
      "0     0.171518  0.017988       450.0\n",
      "1     0.152608  0.015342       500.0\n",
      "2     0.253961  0.024299       550.0\n",
      "3     0.091586  0.016423       600.0\n",
      "4     0.068010  0.009901       650.0\n",
      "5     0.041323  0.005763       700.0\n",
      "6     0.010896  0.005184       750.0\n",
      "7     0.007453  0.002614       800.0, <infer_structcol.main.Sample object at 0x7f4897c73978>, 0.55]  args: [   reflectance   sigma_r  wavelength\n",
      "0     0.171518  0.017988       450.0\n",
      "1     0.152608  0.015342       500.0\n",
      "2     0.253961  0.024299       550.0\n",
      "3     0.091586  0.016423       600.0\n",
      "4     0.068010  0.009901       650.0\n",
      "5     0.041323  0.005763       700.0\n",
      "6     0.010896  0.005184       750.0\n",
      "7     0.007453  0.002614       800.0, <infer_structcol.main.Sample object at 0x7f4897c73828>, 0.55]\n"
     ]
    },
    {
     "name": "stderr",
     "output_type": "stream",
     "text": [
      "AttributeError: 'numpy.float64' object has no attribute 'dimensionality'\n"
     ]
    },
    {
     "name": "stdout",
     "output_type": "stream",
     "text": [
      "\n",
      "  kwargs: {}\n"
     ]
    },
    {
     "name": "stderr",
     "output_type": "stream",
     "text": [
      "  File \"/home/barkley/.local/lib/python3.4/site-packages/pint/registry_helpers.py\", line 210, in wrapper\n",
      "    if dim and value.dimensionality != dim:\n"
     ]
    },
    {
     "name": "stdout",
     "output_type": "stream",
     "text": [
      "  kwargs: {}\n",
      "  exception:\n"
     ]
    },
    {
     "name": "stderr",
     "output_type": "stream",
     "text": [
      "Traceback (most recent call last):\n"
     ]
    },
    {
     "name": "stdout",
     "output_type": "stream",
     "text": [
      "  exception:\n"
     ]
    },
    {
     "name": "stderr",
     "output_type": "stream",
     "text": [
      "  File \"/home/barkley/.local/lib/python3.4/site-packages/emcee/ensemble.py\", line 519, in __call__\n",
      "    return self.f(x, *self.args, **self.kwargs)\n",
      "Traceback (most recent call last):\n",
      "  File \"/home/barkley/code/infer_structcol/infer_structcol/model.py\", line 53, in log_posterior\n",
      "    theory_spectrum = calc_reflectance(vol_frac, sample)\n",
      "  File \"/home/barkley/.local/lib/python3.4/site-packages/emcee/ensemble.py\", line 519, in __call__\n",
      "    return self.f(x, *self.args, **self.kwargs)\n",
      "AttributeError: 'numpy.float64' object has no attribute 'dimensionality'\n",
      "  File \"/home/barkley/code/infer_structcol/infer_structcol/run_structcol.py\", line 46, in calc_reflectance\n",
      "    p, lscat, labs = mc.calc_scat(particle_size, particle_index[i], sample_index[i], volume_fraction, angles, wavelen, phase_mie=False, lscat_mie=False)\n",
      "  File \"/home/barkley/code/infer_structcol/infer_structcol/model.py\", line 53, in log_posterior\n",
      "    theory_spectrum = calc_reflectance(vol_frac, sample)\n",
      "  File \"/home/barkley/code/structural-color-montecarlo/structcol/montecarlo.py\", line 811, in calc_scat\n",
      "    x = size_parameter(wavelen, n_sample, radius)\n",
      "  File \"/home/barkley/code/infer_structcol/infer_structcol/run_structcol.py\", line 46, in calc_reflectance\n",
      "    p, lscat, labs = mc.calc_scat(particle_size, particle_index[i], sample_index[i], volume_fraction, angles, wavelen, phase_mie=False, lscat_mie=False)\n",
      "  File \"/home/barkley/.local/lib/python3.4/site-packages/pint/registry_helpers.py\", line 210, in wrapper\n",
      "    if dim and value.dimensionality != dim:\n",
      "AttributeError: 'numpy.float64' object has no attribute 'dimensionality'\n",
      "  File \"/home/barkley/code/structural-color-montecarlo/structcol/montecarlo.py\", line 811, in calc_scat\n",
      "    x = size_parameter(wavelen, n_sample, radius)\n",
      "  File \"/home/barkley/.local/lib/python3.4/site-packages/pint/registry_helpers.py\", line 210, in wrapper\n",
      "    if dim and value.dimensionality != dim:\n",
      "AttributeError: 'numpy.float64' object has no attribute 'dimensionality'\n"
     ]
    },
    {
     "ename": "AttributeError",
     "evalue": "'numpy.float64' object has no attribute 'dimensionality'",
     "output_type": "error",
     "traceback": [
      "\u001b[0;31m---------------------------------------------------------------------------\u001b[0m",
      "\u001b[0;31mRemoteTraceback\u001b[0m                           Traceback (most recent call last)",
      "\u001b[0;31mRemoteTraceback\u001b[0m: \n\"\"\"\nTraceback (most recent call last):\n  File \"/usr/lib/python3.4/multiprocessing/pool.py\", line 119, in worker\n    result = (True, func(*args, **kwds))\n  File \"/usr/lib/python3.4/multiprocessing/pool.py\", line 44, in mapstar\n    return list(map(*args))\n  File \"/home/barkley/.local/lib/python3.4/site-packages/emcee/ensemble.py\", line 519, in __call__\n    return self.f(x, *self.args, **self.kwargs)\n  File \"/home/barkley/code/infer_structcol/infer_structcol/model.py\", line 53, in log_posterior\n    theory_spectrum = calc_reflectance(vol_frac, sample)\n  File \"/home/barkley/code/infer_structcol/infer_structcol/run_structcol.py\", line 46, in calc_reflectance\n    p, lscat, labs = mc.calc_scat(particle_size, particle_index[i], sample_index[i], volume_fraction, angles, wavelen, phase_mie=False, lscat_mie=False)\n  File \"/home/barkley/code/structural-color-montecarlo/structcol/montecarlo.py\", line 811, in calc_scat\n    x = size_parameter(wavelen, n_sample, radius)\n  File \"/home/barkley/.local/lib/python3.4/site-packages/pint/registry_helpers.py\", line 210, in wrapper\n    if dim and value.dimensionality != dim:\nAttributeError: 'numpy.float64' object has no attribute 'dimensionality'\n\"\"\"",
      "\nThe above exception was the direct cause of the following exception:\n",
      "\u001b[0;31mAttributeError\u001b[0m                            Traceback (most recent call last)",
      "\u001b[0;32m<ipython-input-1-8931b499e5c5>\u001b[0m in \u001b[0;36m<module>\u001b[0;34m()\u001b[0m\n\u001b[1;32m      6\u001b[0m \u001b[0msamp\u001b[0m \u001b[0;34m=\u001b[0m \u001b[0mifs\u001b[0m\u001b[0;34m.\u001b[0m\u001b[0mSample\u001b[0m\u001b[0;34m(\u001b[0m\u001b[0mspect\u001b[0m\u001b[0;34m.\u001b[0m\u001b[0mwavelength\u001b[0m\u001b[0;34m,\u001b[0m \u001b[0;36m0.119\u001b[0m\u001b[0;34m,\u001b[0m \u001b[0;36m120\u001b[0m\u001b[0;34m,\u001b[0m \u001b[0;36m1.59\u001b[0m\u001b[0;34m,\u001b[0m \u001b[0;36m1\u001b[0m\u001b[0;34m)\u001b[0m\u001b[0;34m\u001b[0m\u001b[0m\n\u001b[1;32m      7\u001b[0m \u001b[0;34m\u001b[0m\u001b[0m\n\u001b[0;32m----> 8\u001b[0;31m \u001b[0mifs\u001b[0m\u001b[0;34m.\u001b[0m\u001b[0msample_parameters\u001b[0m\u001b[0;34m(\u001b[0m\u001b[0mspect\u001b[0m\u001b[0;34m,\u001b[0m \u001b[0msamp\u001b[0m\u001b[0;34m,\u001b[0m \u001b[0mnwalkers\u001b[0m\u001b[0;34m=\u001b[0m\u001b[0;36m10\u001b[0m\u001b[0;34m,\u001b[0m \u001b[0mnsteps\u001b[0m\u001b[0;34m=\u001b[0m\u001b[0;36m10\u001b[0m\u001b[0;34m)\u001b[0m\u001b[0;34m\u001b[0m\u001b[0m\n\u001b[0m\u001b[1;32m      9\u001b[0m \u001b[0;34m\u001b[0m\u001b[0m\n",
      "\u001b[0;32m/home/barkley/code/infer_structcol/infer_structcol/model.py\u001b[0m in \u001b[0;36msample_parameters\u001b[0;34m(data, sample, nwalkers, nsteps, burn_in_time, phi_guess)\u001b[0m\n\u001b[1;32m     80\u001b[0m \u001b[0;34m\u001b[0m\u001b[0m\n\u001b[1;32m     81\u001b[0m     \u001b[0msampler\u001b[0m \u001b[0;34m=\u001b[0m \u001b[0memcee\u001b[0m\u001b[0;34m.\u001b[0m\u001b[0mEnsembleSampler\u001b[0m\u001b[0;34m(\u001b[0m\u001b[0mnwalkers\u001b[0m\u001b[0;34m,\u001b[0m \u001b[0mndim\u001b[0m\u001b[0;34m,\u001b[0m \u001b[0mlog_posterior\u001b[0m\u001b[0;34m,\u001b[0m \u001b[0margs\u001b[0m\u001b[0;34m=\u001b[0m\u001b[0;34m[\u001b[0m\u001b[0mdata\u001b[0m\u001b[0;34m,\u001b[0m \u001b[0msample\u001b[0m\u001b[0;34m,\u001b[0m \u001b[0mphi_guess\u001b[0m\u001b[0;34m]\u001b[0m\u001b[0;34m,\u001b[0m \u001b[0mthreads\u001b[0m\u001b[0;34m=\u001b[0m\u001b[0mnthreads\u001b[0m\u001b[0;34m)\u001b[0m\u001b[0;34m\u001b[0m\u001b[0m\n\u001b[0;32m---> 82\u001b[0;31m     \u001b[0msampler\u001b[0m\u001b[0;34m.\u001b[0m\u001b[0mrun_mcmc\u001b[0m\u001b[0;34m(\u001b[0m\u001b[0mstarting_positions\u001b[0m\u001b[0;34m,\u001b[0m \u001b[0mnsteps\u001b[0m\u001b[0;34m)\u001b[0m\u001b[0;34m\u001b[0m\u001b[0m\n\u001b[0m\u001b[1;32m     83\u001b[0m     \u001b[0mtraces\u001b[0m \u001b[0;34m=\u001b[0m \u001b[0mnp\u001b[0m\u001b[0;34m.\u001b[0m\u001b[0mconcatenate\u001b[0m\u001b[0;34m(\u001b[0m\u001b[0;34m[\u001b[0m\u001b[0msampler\u001b[0m\u001b[0;34m.\u001b[0m\u001b[0mchain\u001b[0m\u001b[0;34m[\u001b[0m\u001b[0;34m:\u001b[0m\u001b[0;34m,\u001b[0m\u001b[0mburn_in_time\u001b[0m\u001b[0;34m:\u001b[0m\u001b[0;34m,\u001b[0m\u001b[0;34m:\u001b[0m\u001b[0;34m]\u001b[0m\u001b[0;34m,\u001b[0m \u001b[0msampler\u001b[0m\u001b[0;34m.\u001b[0m\u001b[0mlnprobability\u001b[0m\u001b[0;34m[\u001b[0m\u001b[0;34m:\u001b[0m\u001b[0;34m,\u001b[0m\u001b[0mburn_in_time\u001b[0m\u001b[0;34m:\u001b[0m\u001b[0;34m,\u001b[0m\u001b[0mnp\u001b[0m\u001b[0;34m.\u001b[0m\u001b[0mnewaxis\u001b[0m\u001b[0;34m]\u001b[0m\u001b[0;34m]\u001b[0m\u001b[0;34m,\u001b[0m\u001b[0maxis\u001b[0m\u001b[0;34m=\u001b[0m\u001b[0;36m2\u001b[0m\u001b[0;34m)\u001b[0m\u001b[0;34m.\u001b[0m\u001b[0mreshape\u001b[0m\u001b[0;34m(\u001b[0m\u001b[0;34m-\u001b[0m\u001b[0;36m1\u001b[0m\u001b[0;34m,\u001b[0m \u001b[0mndim\u001b[0m\u001b[0;34m+\u001b[0m\u001b[0;36m1\u001b[0m\u001b[0;34m)\u001b[0m\u001b[0;34m.\u001b[0m\u001b[0mT\u001b[0m\u001b[0;34m\u001b[0m\u001b[0m\n\u001b[1;32m     84\u001b[0m     \u001b[0;32mreturn\u001b[0m \u001b[0mpd\u001b[0m\u001b[0;34m.\u001b[0m\u001b[0mDataFrame\u001b[0m\u001b[0;34m(\u001b[0m\u001b[0;34m{\u001b[0m\u001b[0mkey\u001b[0m\u001b[0;34m:\u001b[0m \u001b[0mtraces\u001b[0m\u001b[0;34m[\u001b[0m\u001b[0mval\u001b[0m\u001b[0;34m]\u001b[0m \u001b[0;32mfor\u001b[0m \u001b[0mval\u001b[0m\u001b[0;34m,\u001b[0m \u001b[0mkey\u001b[0m \u001b[0;32min\u001b[0m \u001b[0menumerate\u001b[0m\u001b[0;34m(\u001b[0m\u001b[0;34m[\u001b[0m\u001b[0;34m'vol_frac'\u001b[0m\u001b[0;34m,\u001b[0m\u001b[0;34m'l0'\u001b[0m\u001b[0;34m,\u001b[0m\u001b[0;34m'l1'\u001b[0m\u001b[0;34m,\u001b[0m\u001b[0;34m'lnprob'\u001b[0m\u001b[0;34m]\u001b[0m\u001b[0;34m)\u001b[0m\u001b[0;34m}\u001b[0m\u001b[0;34m)\u001b[0m\u001b[0;34m\u001b[0m\u001b[0m\n",
      "\u001b[0;32m/home/barkley/.local/lib/python3.4/site-packages/emcee/sampler.py\u001b[0m in \u001b[0;36mrun_mcmc\u001b[0;34m(self, pos0, N, rstate0, lnprob0, **kwargs)\u001b[0m\n\u001b[1;32m    170\u001b[0m \u001b[0;34m\u001b[0m\u001b[0m\n\u001b[1;32m    171\u001b[0m         for results in self.sample(pos0, lnprob0, rstate0, iterations=N,\n\u001b[0;32m--> 172\u001b[0;31m                                    **kwargs):\n\u001b[0m\u001b[1;32m    173\u001b[0m             \u001b[0;32mpass\u001b[0m\u001b[0;34m\u001b[0m\u001b[0m\n\u001b[1;32m    174\u001b[0m \u001b[0;34m\u001b[0m\u001b[0m\n",
      "\u001b[0;32m/home/barkley/.local/lib/python3.4/site-packages/emcee/ensemble.py\u001b[0m in \u001b[0;36msample\u001b[0;34m(self, p0, lnprob0, rstate0, blobs0, iterations, thin, storechain, mh_proposal)\u001b[0m\n\u001b[1;32m    196\u001b[0m         \u001b[0mblobs\u001b[0m \u001b[0;34m=\u001b[0m \u001b[0mblobs0\u001b[0m\u001b[0;34m\u001b[0m\u001b[0m\n\u001b[1;32m    197\u001b[0m         \u001b[0;32mif\u001b[0m \u001b[0mlnprob\u001b[0m \u001b[0;32mis\u001b[0m \u001b[0;32mNone\u001b[0m\u001b[0;34m:\u001b[0m\u001b[0;34m\u001b[0m\u001b[0m\n\u001b[0;32m--> 198\u001b[0;31m             \u001b[0mlnprob\u001b[0m\u001b[0;34m,\u001b[0m \u001b[0mblobs\u001b[0m \u001b[0;34m=\u001b[0m \u001b[0mself\u001b[0m\u001b[0;34m.\u001b[0m\u001b[0m_get_lnprob\u001b[0m\u001b[0;34m(\u001b[0m\u001b[0mp\u001b[0m\u001b[0;34m)\u001b[0m\u001b[0;34m\u001b[0m\u001b[0m\n\u001b[0m\u001b[1;32m    199\u001b[0m \u001b[0;34m\u001b[0m\u001b[0m\n\u001b[1;32m    200\u001b[0m         \u001b[0;31m# Check to make sure that the probability function didn't return\u001b[0m\u001b[0;34m\u001b[0m\u001b[0;34m\u001b[0m\u001b[0m\n",
      "\u001b[0;32m/home/barkley/.local/lib/python3.4/site-packages/emcee/ensemble.py\u001b[0m in \u001b[0;36m_get_lnprob\u001b[0;34m(self, pos)\u001b[0m\n\u001b[1;32m    380\u001b[0m \u001b[0;34m\u001b[0m\u001b[0m\n\u001b[1;32m    381\u001b[0m         \u001b[0;31m# Run the log-probability calculations (optionally in parallel).\u001b[0m\u001b[0;34m\u001b[0m\u001b[0;34m\u001b[0m\u001b[0m\n\u001b[0;32m--> 382\u001b[0;31m         \u001b[0mresults\u001b[0m \u001b[0;34m=\u001b[0m \u001b[0mlist\u001b[0m\u001b[0;34m(\u001b[0m\u001b[0mM\u001b[0m\u001b[0;34m(\u001b[0m\u001b[0mself\u001b[0m\u001b[0;34m.\u001b[0m\u001b[0mlnprobfn\u001b[0m\u001b[0;34m,\u001b[0m \u001b[0;34m[\u001b[0m\u001b[0mp\u001b[0m\u001b[0;34m[\u001b[0m\u001b[0mi\u001b[0m\u001b[0;34m]\u001b[0m \u001b[0;32mfor\u001b[0m \u001b[0mi\u001b[0m \u001b[0;32min\u001b[0m \u001b[0mrange\u001b[0m\u001b[0;34m(\u001b[0m\u001b[0mlen\u001b[0m\u001b[0;34m(\u001b[0m\u001b[0mp\u001b[0m\u001b[0;34m)\u001b[0m\u001b[0;34m)\u001b[0m\u001b[0;34m]\u001b[0m\u001b[0;34m)\u001b[0m\u001b[0;34m)\u001b[0m\u001b[0;34m\u001b[0m\u001b[0m\n\u001b[0m\u001b[1;32m    383\u001b[0m \u001b[0;34m\u001b[0m\u001b[0m\n\u001b[1;32m    384\u001b[0m         \u001b[0;32mtry\u001b[0m\u001b[0;34m:\u001b[0m\u001b[0;34m\u001b[0m\u001b[0m\n",
      "\u001b[0;32m/home/barkley/.local/lib/python3.4/site-packages/emcee/interruptible_pool.py\u001b[0m in \u001b[0;36mmap\u001b[0;34m(self, func, iterable, chunksize)\u001b[0m\n\u001b[1;32m     92\u001b[0m         \u001b[0;32mwhile\u001b[0m \u001b[0;32mTrue\u001b[0m\u001b[0;34m:\u001b[0m\u001b[0;34m\u001b[0m\u001b[0m\n\u001b[1;32m     93\u001b[0m             \u001b[0;32mtry\u001b[0m\u001b[0;34m:\u001b[0m\u001b[0;34m\u001b[0m\u001b[0m\n\u001b[0;32m---> 94\u001b[0;31m                 \u001b[0;32mreturn\u001b[0m \u001b[0mr\u001b[0m\u001b[0;34m.\u001b[0m\u001b[0mget\u001b[0m\u001b[0;34m(\u001b[0m\u001b[0mself\u001b[0m\u001b[0;34m.\u001b[0m\u001b[0mwait_timeout\u001b[0m\u001b[0;34m)\u001b[0m\u001b[0;34m\u001b[0m\u001b[0m\n\u001b[0m\u001b[1;32m     95\u001b[0m             \u001b[0;32mexcept\u001b[0m \u001b[0mTimeoutError\u001b[0m\u001b[0;34m:\u001b[0m\u001b[0;34m\u001b[0m\u001b[0m\n\u001b[1;32m     96\u001b[0m                 \u001b[0;32mpass\u001b[0m\u001b[0;34m\u001b[0m\u001b[0m\n",
      "\u001b[0;32m/usr/lib/python3.4/multiprocessing/pool.py\u001b[0m in \u001b[0;36mget\u001b[0;34m(self, timeout)\u001b[0m\n\u001b[1;32m    597\u001b[0m             \u001b[0;32mreturn\u001b[0m \u001b[0mself\u001b[0m\u001b[0;34m.\u001b[0m\u001b[0m_value\u001b[0m\u001b[0;34m\u001b[0m\u001b[0m\n\u001b[1;32m    598\u001b[0m         \u001b[0;32melse\u001b[0m\u001b[0;34m:\u001b[0m\u001b[0;34m\u001b[0m\u001b[0m\n\u001b[0;32m--> 599\u001b[0;31m             \u001b[0;32mraise\u001b[0m \u001b[0mself\u001b[0m\u001b[0;34m.\u001b[0m\u001b[0m_value\u001b[0m\u001b[0;34m\u001b[0m\u001b[0m\n\u001b[0m\u001b[1;32m    600\u001b[0m \u001b[0;34m\u001b[0m\u001b[0m\n\u001b[1;32m    601\u001b[0m     \u001b[0;32mdef\u001b[0m \u001b[0m_set\u001b[0m\u001b[0;34m(\u001b[0m\u001b[0mself\u001b[0m\u001b[0;34m,\u001b[0m \u001b[0mi\u001b[0m\u001b[0;34m,\u001b[0m \u001b[0mobj\u001b[0m\u001b[0;34m)\u001b[0m\u001b[0;34m:\u001b[0m\u001b[0;34m\u001b[0m\u001b[0m\n",
      "\u001b[0;31mAttributeError\u001b[0m: 'numpy.float64' object has no attribute 'dimensionality'"
     ]
    }
   ],
   "source": [
    "import infer_structcol as ifs\n",
    "import os\n",
    "directory='./infer_structcol/tests/test_data/'\n",
    "ifs.convert_data([450,500,550,600,650,700,750,800], 'ref.txt','dark.txt','./infer_structcol/tests/test_data')\n",
    "spect = ifs.load_spectrum('infer_structcol/tests/test_data/converted/0_data_file.txt')\n",
    "samp = ifs.Sample(spect.wavelength, 0.119, 120, 1.59, 1)\n",
    "\n",
    "ifs.sample_parameters(spect, samp, nwalkers=10, nsteps=10)\n",
    "\n"
   ]
  },
  {
   "cell_type": "markdown",
   "metadata": {},
   "source": [
    "### References\n",
    "\n",
    "1. S. Magkiriadou, J. G. Park, Y. S. Kim, V. N. Manoharan (2014). “On the Absence of Red Structural Color in Photonic Glasses, Bird Feathers, and Certain Beetles.” . Phys. Rev. E, 90, 062302.\n",
    "2. L. Wang, S. L. Jaques, L. Zheng (1995). MCML - Monte Carlo modeling of light transport in multi-layered tissues. Computer Methods and Programs in Biomedicine , 47, 131-146.\n",
    "3. C. F. Bohren, D. R. Huffman (1983). Absorption and Scattering of Light by Small Particles. New York: Wiley.\n",
    "4. P. Gregory (2010). Bayesian Logical Data Analysis for the Physical Sciences. New York: Cambridge University Press."
   ]
  }
 ],
 "metadata": {
  "anaconda-cloud": {},
  "kernelspec": {
   "display_name": "Python 3",
   "language": "python",
   "name": "python3"
  }
 },
 "nbformat": 4,
 "nbformat_minor": 1
}
